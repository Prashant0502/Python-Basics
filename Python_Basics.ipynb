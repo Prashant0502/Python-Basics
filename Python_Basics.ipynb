{
  "nbformat": 4,
  "nbformat_minor": 0,
  "metadata": {
    "colab": {
      "provenance": []
    },
    "kernelspec": {
      "name": "python3",
      "display_name": "Python 3"
    },
    "language_info": {
      "name": "python"
    }
  },
  "cells": [
    {
      "cell_type": "markdown",
      "source": [
        "#Python Basics ->  Theory Assignment"
      ],
      "metadata": {
        "id": "vjWfJNfOcojz"
      }
    },
    {
      "cell_type": "markdown",
      "source": [
        "1. What is Python, and why is it popular?\n",
        "    - Python is a high-level, interpreted programming language known for its simplicity and readability. It is popular because:\n",
        "\n",
        "      It has an easy-to-learn syntax similar to English.\n",
        "It supports multiple programming paradigms (procedural, object-oriented, functional).\n",
        "It has extensive libraries (NumPy, Pandas, TensorFlow, Django, Flask).\n",
        "It is widely used in data science, web development, AI, automation, and scripting.\n"
      ],
      "metadata": {
        "id": "0PH58jQrcvoY"
      }
    },
    {
      "cell_type": "markdown",
      "source": [
        "2. What is an interpreter in Python?\n",
        "    - The Python interpreter is a program that executes Python code line by line rather than compiling it into machine code. It enables dynamic execution, making Python an interpreted language."
      ],
      "metadata": {
        "id": "pxaFVEI4tRm7"
      }
    },
    {
      "cell_type": "markdown",
      "source": [
        "3. What are pre-defined keywords in Python?\n",
        "    - Keywords are reserved words in Python with special meanings. Some common ones:\n",
        "\n",
        "      Control flow: if, elif, else, for, while, break, continue\n",
        "\n",
        "      Boolean values: True, False, None\n",
        "\n",
        "      Function definitions: def, return, lambda\n",
        "\n",
        "      Data types: int, float, str, list, tuple, dict\n",
        "\n",
        "      Others: import, class, try, except, raise, with"
      ],
      "metadata": {
        "id": "naSvYWf_ttu_"
      }
    },
    {
      "cell_type": "markdown",
      "source": [
        "4. Can keywords be used as variable names?\n",
        "  -  No, keywords cannot be used as variable names. Python will throw a SyntaxError."
      ],
      "metadata": {
        "id": "h3ETcAqduElP"
      }
    },
    {
      "cell_type": "markdown",
      "source": [
        "5. What is mutability in Python?\n",
        "    - Mutability refers to whether an object’s value can be changed after it is created.\n",
        "\n",
        "      Mutable objects: Can be modified (e.g., list, dict, set).\n",
        "\n",
        "      Immutable objects: Cannot be changed (e.g., int, float, str, tuple)"
      ],
      "metadata": {
        "id": "0ikuI_kFwifS"
      }
    },
    {
      "cell_type": "markdown",
      "source": [
        "6. Why are lists mutable, but tuples are immutable?\n",
        "     - Lists are stored in dynamic memory, allowing changes.\n",
        "       \n",
        "       Tuples are stored in static memory, making them faster and memory-efficient.\n",
        "       \n",
        "       Tuples ensure data integrity, useful in constant values like database records."
      ],
      "metadata": {
        "id": "DmXIEnYKwxUx"
      }
    },
    {
      "cell_type": "markdown",
      "source": [
        "7. What is the difference between == and is operators in Python?\n",
        "      - == (Equality Operator): Checks if values are equal.\n",
        "      - is (Identity Operator): Checks if two variables refer to the same object in memory."
      ],
      "metadata": {
        "id": "TZ1KAevmxGsz"
      }
    },
    {
      "cell_type": "markdown",
      "source": [
        "8. What are logical operators in Python?\n",
        "     - Logical operators combine conditional statements:\n",
        "\n",
        "     and → Both conditions must be True.\n",
        "\n",
        "     or → At least one condition must be True.\n",
        "     \n",
        "     not → Negates the condition."
      ],
      "metadata": {
        "id": "dWCGtpqaxrzr"
      }
    },
    {
      "cell_type": "markdown",
      "source": [
        "9. What is type casting in Python?\n",
        " - Type casting converts one data type into another."
      ],
      "metadata": {
        "id": "k5a-h83Ax7Zl"
      }
    },
    {
      "cell_type": "markdown",
      "source": [
        "10. What is the difference between implicit and explicit type casting?\n",
        "    - Type Casting\n",
        "       \n",
        "      Implicit\tDone automatically by Python.\n",
        "      For Example: x = 5 + 2.5 # float (7.5)\n",
        "\n",
        "      Explicit\tDone manually using functions.\n",
        "      For Example: (int(), float(), etc.)\tint(\"10\") # 10"
      ],
      "metadata": {
        "id": "KVfLet23zHa1"
      }
    },
    {
      "cell_type": "markdown",
      "source": [
        "11. What is the purpose of conditional statements in Python?\n",
        "    - Conditional statements control decision-making based on conditions.\n",
        "\n"
      ],
      "metadata": {
        "id": "MgVjdIDGzwWR"
      }
    },
    {
      "cell_type": "markdown",
      "source": [
        "12. How does the elif statement work?\n",
        "    - elif checks multiple conditions, executing only the first true condition."
      ],
      "metadata": {
        "id": "GLwKkKAy0JN_"
      }
    },
    {
      "cell_type": "markdown",
      "source": [
        "13. What is the difference between for and while loops?\n",
        "    - Loop Type\tUsed When\tExample\n",
        "      \n",
        "      for loop\tYou know the number of iterations\tfor i in range(5): print(i)\n",
        "      \n",
        "      while loop\tYou don’t know iterations in advance\twhile x < 10: x += 1"
      ],
      "metadata": {
        "id": "55Jda9O-zV5J"
      }
    },
    {
      "cell_type": "markdown",
      "source": [
        "14. Describe a scenario where a while loop is more suitable than a for loop.\n",
        "    - A while loop is better when iterations depend on a condition, not a fixed number."
      ],
      "metadata": {
        "id": "_NWXVdes0gDN"
      }
    },
    {
      "cell_type": "markdown",
      "source": [
        "# Python Basics -> Practical Assignment"
      ],
      "metadata": {
        "id": "CZ1k_ehx7HWn"
      }
    },
    {
      "cell_type": "code",
      "source": [
        "# (1) Write a Python program to print \"Hello, World!?\n",
        "\n",
        "print(\"Hello, World!\")\n",
        "\n"
      ],
      "metadata": {
        "colab": {
          "base_uri": "https://localhost:8080/"
        },
        "id": "8hThWWU77KEz",
        "outputId": "8969d5bb-ba9d-4798-e24e-a5ce019bf107"
      },
      "execution_count": 2,
      "outputs": [
        {
          "output_type": "stream",
          "name": "stdout",
          "text": [
            "Hello, World!\n"
          ]
        }
      ]
    },
    {
      "cell_type": "code",
      "source": [
        "#  (2) Write a Python program that displays your name and age?\n",
        "\n",
        "name = input(\"Enter your name: \")\n",
        "age = input(\"Enter your age: \")\n",
        "print(\"Name:\", name)\n",
        "print(\"Age:\", age)\n"
      ],
      "metadata": {
        "colab": {
          "base_uri": "https://localhost:8080/"
        },
        "id": "lzbo6uAQ7vFE",
        "outputId": "2ecb16c6-fe6d-48d1-9ebf-7d9c49b29685"
      },
      "execution_count": 3,
      "outputs": [
        {
          "output_type": "stream",
          "name": "stdout",
          "text": [
            "Enter your name: Prashant\n",
            "Enter your age: 28\n",
            "Name: Prashant\n",
            "Age: 28\n"
          ]
        }
      ]
    },
    {
      "cell_type": "code",
      "source": [
        "#  (3) Write code to print all the pre-defined keywords in Python using the keyword library?\n",
        "\n",
        "import keyword\n",
        "\n",
        "# Get all Python keywords\n",
        "keywords_list = keyword.kwlist\n",
        "\n",
        "# Print the keywords\n",
        "print(\"Python Keywords:\")\n",
        "for kw in keywords_list:\n",
        "    print(kw)\n",
        "\n"
      ],
      "metadata": {
        "colab": {
          "base_uri": "https://localhost:8080/"
        },
        "collapsed": true,
        "id": "JGWzQ_3c8go4",
        "outputId": "1c0c15c4-fb2f-455c-e7d1-3899795fbf78"
      },
      "execution_count": 4,
      "outputs": [
        {
          "output_type": "stream",
          "name": "stdout",
          "text": [
            "Python Keywords:\n",
            "False\n",
            "None\n",
            "True\n",
            "and\n",
            "as\n",
            "assert\n",
            "async\n",
            "await\n",
            "break\n",
            "class\n",
            "continue\n",
            "def\n",
            "del\n",
            "elif\n",
            "else\n",
            "except\n",
            "finally\n",
            "for\n",
            "from\n",
            "global\n",
            "if\n",
            "import\n",
            "in\n",
            "is\n",
            "lambda\n",
            "nonlocal\n",
            "not\n",
            "or\n",
            "pass\n",
            "raise\n",
            "return\n",
            "try\n",
            "while\n",
            "with\n",
            "yield\n"
          ]
        }
      ]
    },
    {
      "cell_type": "code",
      "source": [
        "#   (4) Write a program that checks if a given word is a Python keyword ?\n",
        "\n",
        "import keyword\n",
        "\n",
        "# Function to check if a word is a Python keyword\n",
        "def check_keyword(word):\n",
        "    if keyword.iskeyword(word):\n",
        "        print(f\"'{word}' is a Python keyword.\")\n",
        "    else:\n",
        "        print(f\"'{word}' is NOT a Python keyword.\")\n",
        "\n"
      ],
      "metadata": {
        "id": "GapRhvrb9BA_"
      },
      "execution_count": 7,
      "outputs": []
    },
    {
      "cell_type": "code",
      "source": [
        "#  (5) Create a list and tuple in Python, and demonstrate how attempting to change an element works differently for each?\n",
        "# Creating a list (mutable)\n",
        "my_list = [10, 20, 30]\n",
        "print(\"Original List:\", my_list)\n",
        "\n",
        "# Modifying an element in the list\n",
        "my_list[1] = 25\n",
        "print(\"Modified List:\", my_list)  # Successful modification\n",
        "\n",
        "# Creating a tuple (immutable)\n",
        "my_tuple = (10, 20, 30)\n",
        "print(\"\\nOriginal Tuple:\", my_tuple)\n",
        "\n",
        "# Attempting to modify an element in the tuple (will raise an error)\n",
        "try:\n",
        "    my_tuple[1] = 25  # This will cause an error\n",
        "except TypeError as e:\n",
        "    print(\"Error:\", e)\n",
        "\n"
      ],
      "metadata": {
        "colab": {
          "base_uri": "https://localhost:8080/"
        },
        "id": "Ws25uuoR92Mp",
        "outputId": "005577b1-f8ba-4347-d7ab-6f7dbe954b4f"
      },
      "execution_count": 11,
      "outputs": [
        {
          "output_type": "stream",
          "name": "stdout",
          "text": [
            "Original List: [10, 20, 30]\n",
            "Modified List: [10, 25, 30]\n",
            "\n",
            "Original Tuple: (10, 20, 30)\n",
            "Error: 'tuple' object does not support item assignment\n"
          ]
        }
      ]
    },
    {
      "cell_type": "code",
      "source": [
        "# (6)  Write a function to demonstrate the behavior of mutable and immutable arguments?\n",
        "\n",
        "# Function to demonstrate mutable and immutable behavior\n",
        "def modify_values(immutable_var, mutable_var):\n",
        "    # Trying to modify immutable variable (integer)\n",
        "    immutable_var += 10\n",
        "    print(\"Inside function (immutable):\", immutable_var)  # Value changes inside function only\n",
        "\n",
        "    # Trying to modify mutable variable (list)\n",
        "    mutable_var.append(100)\n",
        "    print(\"Inside function (mutable):\", mutable_var)  # Value changes globally\n",
        "\n",
        "# Immutable variable (integer)\n",
        "num = 50\n",
        "\n",
        "# Mutable variable (list)\n",
        "numbers = [1, 2, 3]\n",
        "\n",
        "print(\"Before function call:\")\n",
        "print(\"Immutable variable:\", num)\n",
        "print(\"Mutable variable:\", numbers)\n",
        "\n",
        "# Function call\n",
        "modify_values(num, numbers)\n",
        "\n",
        "print(\"\\nAfter function call:\")\n",
        "print(\"Immutable variable:\", num)  # Original value remains unchanged\n",
        "print(\"Mutable variable:\", numbers)  # Original list is modified\n"
      ],
      "metadata": {
        "colab": {
          "base_uri": "https://localhost:8080/"
        },
        "collapsed": true,
        "id": "p5Q2BKRK9_dk",
        "outputId": "3b173408-753d-4af9-9fa5-7e32ac628fb2"
      },
      "execution_count": 2,
      "outputs": [
        {
          "output_type": "stream",
          "name": "stdout",
          "text": [
            "Before function call:\n",
            "Immutable variable: 50\n",
            "Mutable variable: [1, 2, 3]\n",
            "Inside function (immutable): 60\n",
            "Inside function (mutable): [1, 2, 3, 100]\n",
            "\n",
            "After function call:\n",
            "Immutable variable: 50\n",
            "Mutable variable: [1, 2, 3, 100]\n"
          ]
        }
      ]
    },
    {
      "cell_type": "code",
      "source": [
        "# (7) Write a function to demonstrate the behavior of mutable and immutable arguments?\n",
        "\n",
        "# Function to demonstrate mutable and immutable behavior\n",
        "def modify_values(immutable_var, mutable_var):\n",
        "    # Modifying immutable variable (integer)\n",
        "    immutable_var += 10\n",
        "    print(\"Inside function (immutable variable):\", immutable_var)  # Value changes inside function only\n",
        "\n",
        "    # Modifying mutable variable (list)\n",
        "    mutable_var.append(100)\n",
        "    print(\"Inside function (mutable variable):\", mutable_var)  # Value changes globally\n",
        "\n",
        "# Immutable variable (integer)\n",
        "num = 50\n",
        "\n",
        "# Mutable variable (list)\n",
        "numbers = [1, 2, 3]\n",
        "\n",
        "print(\"Before function call:\")\n",
        "print(\"Immutable variable:\", num)\n",
        "print(\"Mutable variable:\", numbers)\n",
        "\n",
        "# Function call\n",
        "modify_values(num, numbers)\n",
        "\n",
        "print(\"\\nAfter function call:\")\n",
        "print(\"Immutable variable:\", num)  # Original value remains unchanged\n",
        "print(\"Mutable variable:\", numbers)  # Original list is modified\n",
        "\n"
      ],
      "metadata": {
        "colab": {
          "base_uri": "https://localhost:8080/"
        },
        "collapsed": true,
        "id": "FFPxyUmC_kRy",
        "outputId": "4c4dec5d-27dd-4f84-b435-537dbdd385e9"
      },
      "execution_count": 3,
      "outputs": [
        {
          "output_type": "stream",
          "name": "stdout",
          "text": [
            "Before function call:\n",
            "Immutable variable: 50\n",
            "Mutable variable: [1, 2, 3]\n",
            "Inside function (immutable variable): 60\n",
            "Inside function (mutable variable): [1, 2, 3, 100]\n",
            "\n",
            "After function call:\n",
            "Immutable variable: 50\n",
            "Mutable variable: [1, 2, 3, 100]\n"
          ]
        }
      ]
    },
    {
      "cell_type": "code",
      "source": [
        "# (8) Write a program to demonstrate the use of logical operators ?\n",
        "# Define variables\n",
        "a = 10\n",
        "b = 20\n",
        "c = 30\n",
        "\n",
        "# Logical AND operator\n",
        "print(\"Logical AND:\")\n",
        "print(a < b and b < c)  # True and True → True\n",
        "print(a > b and b < c)  # False and True → False\n",
        "\n",
        "# Logical OR operator\n",
        "print(\"Logical OR:\")\n",
        "print(a > b or b < c)   # False or True → True\n",
        "print(a > b or b > c)   # False or False → False\n",
        "\n",
        "# Logical NOT operator\n",
        "print(\"Logical NOT:\")\n",
        "print(not (a > b))      # not(False) → True\n",
        "print(not (b < c))      # not(True) → False\n"
      ],
      "metadata": {
        "collapsed": true,
        "colab": {
          "base_uri": "https://localhost:8080/"
        },
        "id": "yZ1D2RQhDLLV",
        "outputId": "99d5d89d-d12c-41d4-cd1c-9f6c6168c916"
      },
      "execution_count": 5,
      "outputs": [
        {
          "output_type": "stream",
          "name": "stdout",
          "text": [
            "Logical AND:\n",
            "True\n",
            "False\n",
            "\n",
            "Logical OR:\n",
            "True\n",
            "False\n",
            "\n",
            "Logical NOT:\n",
            "True\n",
            "False\n"
          ]
        }
      ]
    },
    {
      "cell_type": "code",
      "source": [
        "# (9) Write a Python program to convert user input from string to integer, float, and boolean types?\n",
        "\n",
        "# Take user input as a string\n",
        "user_input = input(\"Enter a value: \")\n",
        "\n",
        "# Convert to integer (if possible)\n",
        "try:\n",
        "    int_value = int(user_input)\n",
        "    print(\"Integer value:\", int_value)\n",
        "except ValueError:\n",
        "    print(\"Cannot convert to Integer!\")\n",
        "\n",
        "# Convert to float (if possible)\n",
        "try:\n",
        "    float_value = float(user_input)\n",
        "    print(\"Float value:\", float_value)\n",
        "except ValueError:\n",
        "    print(\"Cannot convert to Float!\")\n",
        "\n",
        "# Convert to boolean\n",
        "bool_value = bool(user_input)  # Empty string → False, Non-empty string → True\n",
        "print(\"Boolean value:\", bool_value)\n"
      ],
      "metadata": {
        "colab": {
          "base_uri": "https://localhost:8080/"
        },
        "id": "r7BcwuIYE6zn",
        "outputId": "87eeba99-aa34-42f2-83f0-ef7b0c47bdb4"
      },
      "execution_count": 9,
      "outputs": [
        {
          "output_type": "stream",
          "name": "stdout",
          "text": [
            "Enter a value: 43\n",
            "Integer value: 43\n",
            "Float value: 43.0\n",
            "Boolean value: True\n"
          ]
        }
      ]
    },
    {
      "cell_type": "code",
      "source": [
        "# (10) Write code to demonstrate type casting with list elements?\n",
        "\n",
        "# List with mixed data types (string numbers)\n",
        "string_list = [\"10\", \"20\", \"30\", \"40.5\", \"50.8\"]\n",
        "\n",
        "# Convert all elements to integers (if possible)\n",
        "int_list = [int(float(x)) for x in string_list]  # First convert to float, then to int\n",
        "print(\"List converted to integers:\", int_list)\n",
        "\n",
        "# Convert all elements to float\n",
        "float_list = [float(x) for x in string_list]\n",
        "print(\"List converted to floats:\", float_list)\n",
        "\n",
        "# Convert all elements to boolean\n",
        "bool_list = [bool(x) for x in string_list]\n",
        "print(\"List converted to booleans:\", bool_list)\n",
        "\n"
      ],
      "metadata": {
        "id": "l_Chq9qXFtbj",
        "outputId": "bde94173-2979-46bb-e809-cd6a9658c581",
        "colab": {
          "base_uri": "https://localhost:8080/"
        }
      },
      "execution_count": 10,
      "outputs": [
        {
          "output_type": "stream",
          "name": "stdout",
          "text": [
            "List converted to integers: [10, 20, 30, 40, 50]\n",
            "List converted to floats: [10.0, 20.0, 30.0, 40.5, 50.8]\n",
            "List converted to booleans: [True, True, True, True, True]\n"
          ]
        }
      ]
    },
    {
      "cell_type": "code",
      "source": [
        "# (11) Write a program that checks if a number is positive, negative, or zero?\n",
        "\n",
        "# Take user input\n",
        "num = float(input(\"Enter a number: \"))\n",
        "\n",
        "# Check if the number is positive, negative, or zero\n",
        "if num > 0:\n",
        "    print(\"The number is Positive.\")\n",
        "elif num < 0:\n",
        "    print(\"The number is Negative.\")\n",
        "else:\n",
        "    print(\"The number is Zero.\")\n"
      ],
      "metadata": {
        "id": "AmqfbejUGa2Z",
        "outputId": "fb780d12-ebd7-44d9-ba75-11795c8310cf",
        "colab": {
          "base_uri": "https://localhost:8080/"
        }
      },
      "execution_count": 12,
      "outputs": [
        {
          "output_type": "stream",
          "name": "stdout",
          "text": [
            "Enter a number: 57.0\n",
            "The number is Positive.\n"
          ]
        }
      ]
    },
    {
      "cell_type": "code",
      "source": [
        "# (12) Write a for loop to print numbers from 1 to 100?\n",
        "\n",
        "# Using a for loop to print numbers from 1 to 100\n",
        "for num in range(1, 101):\n",
        "    print(num, end=\" \")  # Print numbers in a single line with spaces\n"
      ],
      "metadata": {
        "id": "o7fkPPUPGy_v",
        "outputId": "fc50282d-3dab-4449-f8e1-40e9b5d2d794",
        "colab": {
          "base_uri": "https://localhost:8080/"
        }
      },
      "execution_count": 14,
      "outputs": [
        {
          "output_type": "stream",
          "name": "stdout",
          "text": [
            "1 2 3 4 5 6 7 8 9 10 11 12 13 14 15 16 17 18 19 20 21 22 23 24 25 26 27 28 29 30 31 32 33 34 35 36 37 38 39 40 41 42 43 44 45 46 47 48 49 50 51 52 53 54 55 56 57 58 59 60 61 62 63 64 65 66 67 68 69 70 71 72 73 74 75 76 77 78 79 80 81 82 83 84 85 86 87 88 89 90 91 92 93 94 95 96 97 98 99 100 "
          ]
        }
      ]
    },
    {
      "cell_type": "code",
      "source": [
        "# (13) Write a Python program to find the sum of all even numbers between 1 and 500?\n",
        "\n",
        "# Initialize sum variable\n",
        "sum_even = 0\n",
        "\n",
        "# Loop through even numbers from 2 to 500\n",
        "for num in range(2, 501, 2):  # Start from 2, go up to 500, step by 2\n",
        "    sum_even += num  # Add each even number to sum_even\n",
        "\n",
        "# Print the result\n",
        "print(\"The sum of all even numbers between 1 and 500 is:\", sum_even)\n"
      ],
      "metadata": {
        "id": "9tIjrHwNHCzi",
        "outputId": "0bc60b5a-4f7e-4c88-b8c6-53a2be1ffc3a",
        "colab": {
          "base_uri": "https://localhost:8080/"
        }
      },
      "execution_count": 15,
      "outputs": [
        {
          "output_type": "stream",
          "name": "stdout",
          "text": [
            "The sum of all even numbers between 1 and 500 is: 62750\n"
          ]
        }
      ]
    },
    {
      "cell_type": "code",
      "source": [
        "#  (14) Write a program to reverse a string using a while loop?\n",
        "\n",
        "# Take user input\n",
        "string = input(\"Enter a string: \")\n",
        "\n",
        "# Initialize an empty string to store the reversed result\n",
        "reversed_string = \"\"\n",
        "\n",
        "# Get the last index of the string\n",
        "index = len(string) - 1\n",
        "\n",
        "# Loop through the string in reverse order\n",
        "while index >= 0:\n",
        "    reversed_string += string[index]  # Append the character to reversed_string\n",
        "    index -= 1  # Move to the previous character\n",
        "\n",
        "# Print the reversed string\n",
        "print(\"Reversed string:\", reversed_string)\n"
      ],
      "metadata": {
        "id": "rOZ8Gp4wHV4B",
        "outputId": "2b59d52b-bf3a-453c-ed4e-153f2def344f",
        "colab": {
          "base_uri": "https://localhost:8080/"
        }
      },
      "execution_count": 17,
      "outputs": [
        {
          "output_type": "stream",
          "name": "stdout",
          "text": [
            "Enter a string: Rohit\n",
            "Reversed string: tihoR\n"
          ]
        }
      ]
    },
    {
      "cell_type": "code",
      "source": [
        "# (15) Write a Python program to calculate the factorial of a number provided by the user using a while loop.\n",
        "\n",
        "# Take user input\n",
        "num = int(input(\"Enter a number: \"))\n",
        "\n",
        "# Initialize factorial result\n",
        "factorial = 1\n",
        "\n",
        "# Initialize counter\n",
        "i = num\n",
        "\n",
        "# Check if the number is valid (non-negative)\n",
        "if num < 0:\n",
        "    print(\"Factorial is not defined for negative numbers.\")\n",
        "elif num == 0 or num == 1:\n",
        "    print(\"Factorial of\", num, \"is 1\")\n",
        "else:\n",
        "    # Calculate factorial using while loop\n",
        "    while i > 1:\n",
        "        factorial *= i  # Multiply the current number\n",
        "        i -= 1  # Decrease the counter\n",
        "\n",
        "    # Print the result\n",
        "    print(\"Factorial of\", num, \"is\", factorial)\n"
      ],
      "metadata": {
        "id": "bqePRGrPHpG6",
        "outputId": "95c64bb9-efbf-46a7-f330-54c4356c8268",
        "colab": {
          "base_uri": "https://localhost:8080/"
        }
      },
      "execution_count": 19,
      "outputs": [
        {
          "output_type": "stream",
          "name": "stdout",
          "text": [
            "Enter a number: 453\n",
            "Factorial of 453 is 1600678593910618059713505243096489560617538954620341468344937824247568056058048926633716944224766779524002272653157354506093827342375238411217221898585887762294152744826072716877438565700645351725259166561005204991922293818212989199082726388728028121083208317583405164658905846850634093734703955304067827720451029643165696235089013196583630122567730478428118449954920549689559959484457129102618917215466583189444989581468575225499274360303261079281620761256352688656175225526088675593437456230517199204128952155119614855992927928537931589781743797397651623542396214919347739461728925483815236666781615519895821845477511250889764106119829024752449775586508981518221923004889511795894175986927688490535557670080115453418914424761775518131647677528666682718375676502384567679617808225238523913726119666258433595032284692696167695186072060397292512866610912168523768469986272604621880745067599236169728000000000000000000000000000000000000000000000000000000000000000000000000000000000000000000000000000000000000000\n"
          ]
        }
      ]
    }
  ]
}